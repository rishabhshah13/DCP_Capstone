{
 "cells": [
  {
   "cell_type": "code",
   "execution_count": 39,
   "id": "3be2bf3d",
   "metadata": {},
   "outputs": [],
   "source": [
    "import pandas as pd\n",
    "\n",
    "df1 = pd.read_csv(\"cleaned_whole_df.csv\", skiprows=lambda x: x % 2)\n",
    "df2 = pd.read_csv(\"final_df.csv\")\n",
    "df2 = df2.rename(columns={'relevant': 'Relevant'})\n",
    "df2 = df2.drop(columns=['Column1', 'Column2', 'Column3'], axis=1)\n",
    "\n",
    "# Find common columns\n",
    "common_columns = df1.columns.intersection(df2.columns)\n",
    "\n",
    "# Keep only the common columns in df1\n",
    "df1 = df1[common_columns]\n",
    "\n",
    "df3 = pd.concat([df1, df2], ignore_index=True)\n",
    "\n",
    "df3['Relevant'] = df3['Relevant'].fillna(0)"
   ]
  },
  {
   "cell_type": "code",
   "execution_count": 40,
   "id": "73a6b5c4",
   "metadata": {},
   "outputs": [
    {
     "data": {
      "text/plain": [
       "(2613, 29)"
      ]
     },
     "execution_count": 40,
     "metadata": {},
     "output_type": "execute_result"
    }
   ],
   "source": [
    "df3.shape"
   ]
  },
  {
   "cell_type": "code",
   "execution_count": 41,
   "id": "3e0bb8ac",
   "metadata": {},
   "outputs": [],
   "source": [
    "df3.to_csv(\"all_labelled_data_for_training.csv\", index=False)"
   ]
  },
  {
   "cell_type": "code",
   "execution_count": null,
   "id": "9a21434e",
   "metadata": {},
   "outputs": [],
   "source": []
  }
 ],
 "metadata": {
  "kernelspec": {
   "display_name": "Python 3 (ipykernel)",
   "language": "python",
   "name": "python3"
  },
  "language_info": {
   "codemirror_mode": {
    "name": "ipython",
    "version": 3
   },
   "file_extension": ".py",
   "mimetype": "text/x-python",
   "name": "python",
   "nbconvert_exporter": "python",
   "pygments_lexer": "ipython3",
   "version": "3.11.4"
  }
 },
 "nbformat": 4,
 "nbformat_minor": 5
}
